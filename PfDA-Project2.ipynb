{
 "cells": [
  {
   "cell_type": "code",
   "execution_count": 9,
   "id": "a4635d72",
   "metadata": {},
   "outputs": [],
   "source": [
    "import numpy as np\n",
    "import pandas as pd\n",
    "import matplotlib.pyplot as plt"
   ]
  },
  {
   "cell_type": "code",
   "execution_count": 7,
   "id": "38c30dd7",
   "metadata": {},
   "outputs": [],
   "source": [
    "df = pd.read_excel('CO2 data from IPCC Report.xls', sheet_name=\"CO2 Composite\", skiprows=14)"
   ]
  },
  {
   "cell_type": "code",
   "execution_count": 13,
   "id": "8a4ec2ce",
   "metadata": {},
   "outputs": [
    {
     "data": {
      "text/html": [
       "<div>\n",
       "<style scoped>\n",
       "    .dataframe tbody tr th:only-of-type {\n",
       "        vertical-align: middle;\n",
       "    }\n",
       "\n",
       "    .dataframe tbody tr th {\n",
       "        vertical-align: top;\n",
       "    }\n",
       "\n",
       "    .dataframe thead th {\n",
       "        text-align: right;\n",
       "    }\n",
       "</style>\n",
       "<table border=\"1\" class=\"dataframe\">\n",
       "  <thead>\n",
       "    <tr style=\"text-align: right;\">\n",
       "      <th></th>\n",
       "      <th>Gasage (yr BP)</th>\n",
       "      <th>CO2 (ppmv)</th>\n",
       "      <th>sigma mean CO2 (ppmv)</th>\n",
       "    </tr>\n",
       "  </thead>\n",
       "  <tbody>\n",
       "    <tr>\n",
       "      <th>0</th>\n",
       "      <td>-51.030000</td>\n",
       "      <td>368.022488</td>\n",
       "      <td>0.060442</td>\n",
       "    </tr>\n",
       "    <tr>\n",
       "      <th>1</th>\n",
       "      <td>-48.000000</td>\n",
       "      <td>361.780737</td>\n",
       "      <td>0.370000</td>\n",
       "    </tr>\n",
       "    <tr>\n",
       "      <th>2</th>\n",
       "      <td>-46.279272</td>\n",
       "      <td>359.647793</td>\n",
       "      <td>0.098000</td>\n",
       "    </tr>\n",
       "    <tr>\n",
       "      <th>3</th>\n",
       "      <td>-44.405642</td>\n",
       "      <td>357.106740</td>\n",
       "      <td>0.159923</td>\n",
       "    </tr>\n",
       "    <tr>\n",
       "      <th>4</th>\n",
       "      <td>-43.080000</td>\n",
       "      <td>353.946685</td>\n",
       "      <td>0.043007</td>\n",
       "    </tr>\n",
       "    <tr>\n",
       "      <th>...</th>\n",
       "      <td>...</td>\n",
       "      <td>...</td>\n",
       "      <td>...</td>\n",
       "    </tr>\n",
       "    <tr>\n",
       "      <th>1896</th>\n",
       "      <td>803925.284376</td>\n",
       "      <td>202.921723</td>\n",
       "      <td>2.064488</td>\n",
       "    </tr>\n",
       "    <tr>\n",
       "      <th>1897</th>\n",
       "      <td>804009.870607</td>\n",
       "      <td>207.498645</td>\n",
       "      <td>0.915083</td>\n",
       "    </tr>\n",
       "    <tr>\n",
       "      <th>1898</th>\n",
       "      <td>804522.674630</td>\n",
       "      <td>204.861938</td>\n",
       "      <td>1.642851</td>\n",
       "    </tr>\n",
       "    <tr>\n",
       "      <th>1899</th>\n",
       "      <td>805132.442334</td>\n",
       "      <td>202.226839</td>\n",
       "      <td>0.689587</td>\n",
       "    </tr>\n",
       "    <tr>\n",
       "      <th>1900</th>\n",
       "      <td>805668.868405</td>\n",
       "      <td>207.285440</td>\n",
       "      <td>2.202808</td>\n",
       "    </tr>\n",
       "  </tbody>\n",
       "</table>\n",
       "<p>1901 rows × 3 columns</p>\n",
       "</div>"
      ],
      "text/plain": [
       "      Gasage (yr BP)   CO2 (ppmv)  sigma mean CO2 (ppmv)\n",
       "0          -51.030000  368.022488               0.060442\n",
       "1          -48.000000  361.780737               0.370000\n",
       "2          -46.279272  359.647793               0.098000\n",
       "3          -44.405642  357.106740               0.159923\n",
       "4          -43.080000  353.946685               0.043007\n",
       "...               ...         ...                    ...\n",
       "1896    803925.284376  202.921723               2.064488\n",
       "1897    804009.870607  207.498645               0.915083\n",
       "1898    804522.674630  204.861938               1.642851\n",
       "1899    805132.442334  202.226839               0.689587\n",
       "1900    805668.868405  207.285440               2.202808\n",
       "\n",
       "[1901 rows x 3 columns]"
      ]
     },
     "execution_count": 13,
     "metadata": {},
     "output_type": "execute_result"
    }
   ],
   "source": [
    "df"
   ]
  },
  {
   "cell_type": "code",
   "execution_count": 19,
   "id": "fc1509ab",
   "metadata": {},
   "outputs": [
    {
     "data": {
      "text/plain": [
       "0       368.022488\n",
       "1       361.780737\n",
       "2       359.647793\n",
       "3       357.106740\n",
       "4       353.946685\n",
       "           ...    \n",
       "1896    202.921723\n",
       "1897    207.498645\n",
       "1898    204.861938\n",
       "1899    202.226839\n",
       "1900    207.285440\n",
       "Name: CO2 (ppmv), Length: 1901, dtype: float64"
      ]
     },
     "execution_count": 19,
     "metadata": {},
     "output_type": "execute_result"
    }
   ],
   "source": [
    "co2_df = df['CO2 (ppmv)']\n",
    "co2_df"
   ]
  },
  {
   "cell_type": "code",
   "execution_count": 24,
   "id": "c9cdf357",
   "metadata": {},
   "outputs": [
    {
     "data": {
      "text/plain": [
       "0          -51.030000\n",
       "1          -48.000000\n",
       "2          -46.279272\n",
       "3          -44.405642\n",
       "4          -43.080000\n",
       "            ...      \n",
       "1896    803925.284376\n",
       "1897    804009.870607\n",
       "1898    804522.674630\n",
       "1899    805132.442334\n",
       "1900    805668.868405\n",
       "Name: Gasage (yr BP) , Length: 1901, dtype: float64"
      ]
     },
     "execution_count": 24,
     "metadata": {},
     "output_type": "execute_result"
    }
   ],
   "source": [
    "yr_df = df['Gasage (yr BP) ']\n",
    "yr_df[:]"
   ]
  },
  {
   "cell_type": "code",
   "execution_count": 28,
   "id": "0d5f2dd0",
   "metadata": {},
   "outputs": [
    {
     "data": {
      "text/plain": [
       "array([-5.10300000e+01, -4.80000000e+01, -4.62792721e+01, ...,\n",
       "        8.04522675e+05,  8.05132442e+05,  8.05668868e+05])"
      ]
     },
     "execution_count": 28,
     "metadata": {},
     "output_type": "execute_result"
    }
   ],
   "source": [
    "yr_array = yr_df.to_numpy()\n",
    "a\n"
   ]
  },
  {
   "cell_type": "code",
   "execution_count": 29,
   "id": "d814c0e4",
   "metadata": {},
   "outputs": [
    {
     "data": {
      "text/plain": [
       "array([368.0224879 , 361.78073659, 359.64779318, ..., 204.86193803,\n",
       "       202.22683913, 207.28544011])"
      ]
     },
     "execution_count": 29,
     "metadata": {},
     "output_type": "execute_result"
    }
   ],
   "source": [
    "co2_array = co2_df.to_numpy()\n",
    "co2_array"
   ]
  },
  {
   "cell_type": "code",
   "execution_count": 38,
   "id": "8ab598e9",
   "metadata": {},
   "outputs": [
    {
     "ename": "TypeError",
     "evalue": "'str' object is not callable",
     "output_type": "error",
     "traceback": [
      "\u001b[1;31m---------------------------------------------------------------------------\u001b[0m",
      "\u001b[1;31mTypeError\u001b[0m                                 Traceback (most recent call last)",
      "Cell \u001b[1;32mIn[38], line 2\u001b[0m\n\u001b[0;32m      1\u001b[0m plt\u001b[38;5;241m.\u001b[39mplot(yr_array, co2_array)\n\u001b[1;32m----> 2\u001b[0m plt\u001b[38;5;241m.\u001b[39mxlabel(\u001b[38;5;124m\"\u001b[39m\u001b[38;5;124mkyr\u001b[39m\u001b[38;5;124m\"\u001b[39m)\n\u001b[0;32m      3\u001b[0m plt\u001b[38;5;241m.\u001b[39mylabel(\u001b[38;5;124m'\u001b[39m\u001b[38;5;124mCO2 (ppmv)\u001b[39m\u001b[38;5;124m'\u001b[39m)\n\u001b[0;32m      4\u001b[0m plt\u001b[38;5;241m.\u001b[39mshow()\n",
      "\u001b[1;31mTypeError\u001b[0m: 'str' object is not callable"
     ]
    },
    {
     "data": {
      "image/png": "[encoded data removed]",
      "text/plain": [
       "<Figure size 640x480 with 1 Axes>"
      ]
     },
     "metadata": {},
     "output_type": "display_data"
    }
   ],
   "source": [
    "plt.plot(yr_array, co2_array)\n",
    "plt.xlabel(\"kyr\")\n",
    "plt.ylabel('CO2 (ppmv)')\n",
    "plt.show()"
   ]
  },
  {
   "cell_type": "code",
   "execution_count": null,
   "id": "dd0a47fe",
   "metadata": {},
   "outputs": [],
   "source": [
    "fig, ax = plt.subplots()\n"
   ]
  }
 ],
 "metadata": {
  "kernelspec": {
   "display_name": "Python 3 (ipykernel)",
   "language": "python",
   "name": "python3"
  },
  "language_info": {
   "codemirror_mode": {
    "name": "ipython",
    "version": 3
   },
   "file_extension": ".py",
   "mimetype": "text/x-python",
   "name": "python",
   "nbconvert_exporter": "python",
   "pygments_lexer": "ipython3",
   "version": "3.11.5"
  }
 },
 "nbformat": 4,
 "nbformat_minor": 5
}
